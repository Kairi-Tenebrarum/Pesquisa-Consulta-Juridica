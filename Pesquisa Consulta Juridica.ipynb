{
 "cells": [
  {
   "cell_type": "markdown",
   "id": "390effd7",
   "metadata": {},
   "source": [
    "# Importando as bibliotecas"
   ]
  },
  {
   "cell_type": "code",
   "execution_count": 25,
   "id": "cc63a2eb",
   "metadata": {},
   "outputs": [],
   "source": [
    "# Importando Selenium e suas dependências\n",
    "from selenium import webdriver\n",
    "from selenium.webdriver.chrome.service import Service\n",
    "from webdriver_manager.chrome import ChromeDriverManager\n",
    "from selenium.webdriver.common.by import By\n",
    "from selenium.webdriver import ActionChains\n",
    "from selenium.webdriver.common.alert import Alert\n",
    "from selenium.webdriver.common.keys import Keys\n",
    "\n",
    "# Importando time\n",
    "import time\n",
    "\n",
    "# Importando o OS\n",
    "import os\n",
    "\n",
    "# Importando o Pandas\n",
    "import pandas as pd"
   ]
  },
  {
   "cell_type": "markdown",
   "id": "9916c13f",
   "metadata": {},
   "source": [
    "### Abrindo o navegador"
   ]
  },
  {
   "cell_type": "code",
   "execution_count": 26,
   "id": "78c8425c",
   "metadata": {},
   "outputs": [
    {
     "name": "stderr",
     "output_type": "stream",
     "text": [
      "\n",
      "\n",
      "====== WebDriver manager ======\n",
      "Current google-chrome version is 102.0.5005\n",
      "Get LATEST chromedriver version for 102.0.5005 google-chrome\n",
      "Driver [C:\\Users\\Guilherme\\.wdm\\drivers\\chromedriver\\win32\\102.0.5005.61\\chromedriver.exe] found in cache\n"
     ]
    }
   ],
   "source": [
    "servico = Service(ChromeDriverManager().install())\n",
    "navegador = webdriver.Chrome(service=servico)"
   ]
  },
  {
   "cell_type": "markdown",
   "id": "7fae9c42",
   "metadata": {},
   "source": [
    "------------------------------"
   ]
  },
  {
   "cell_type": "markdown",
   "id": "51300374",
   "metadata": {},
   "source": [
    "## Para 1 pessoa"
   ]
  },
  {
   "cell_type": "markdown",
   "id": "45ff5ec9",
   "metadata": {},
   "source": [
    "### Abrindo a página"
   ]
  },
  {
   "cell_type": "raw",
   "id": "02b52e11",
   "metadata": {},
   "source": [
    "# import os\n",
    "\n",
    "caminho = os.getcwd()\n",
    "arquivo = caminho + r\"\\index.html\"\n",
    "navegador.get(arquivo)"
   ]
  },
  {
   "cell_type": "markdown",
   "id": "954bb8c0",
   "metadata": {},
   "source": [
    "### Escolhendo o estado"
   ]
  },
  {
   "cell_type": "raw",
   "id": "84640bb5",
   "metadata": {},
   "source": [
    "menu = navegador.find_element(By.CLASS_NAME, 'dropdown-menu')\n",
    "conteudo = navegador.find_element(By.CLASS_NAME, 'dropdown-content')\n",
    "item = navegador.find_element(By.XPATH, '/html/body/div/div/div/a[2]')\n",
    "\n",
    "# Movendo o mouse\n",
    "ActionChains(navegador).move_to_element(menu).move_to_element(conteudo).perform()\n",
    "\n",
    "item.click()"
   ]
  },
  {
   "cell_type": "markdown",
   "id": "687e6e52",
   "metadata": {},
   "source": [
    "### Mudando de aba"
   ]
  },
  {
   "cell_type": "raw",
   "id": "25758035",
   "metadata": {},
   "source": [
    "aba_original = navegador.window_handles[0]\n",
    "aba_nova = navegador.window_handles[1]\n",
    "\n",
    "navegador.switch_to.window(aba_nova)"
   ]
  },
  {
   "cell_type": "markdown",
   "id": "aeca3c6c",
   "metadata": {},
   "source": [
    "### Preenchendo os campos na nova aba"
   ]
  },
  {
   "cell_type": "raw",
   "id": "d34b4cc4",
   "metadata": {},
   "source": [
    "# Preenchendo o campo do Nome\n",
    "nome = navegador.find_element(By.ID, 'nome').send_keys('Guilherme')\n",
    "\n",
    "# Preenchendo o campo do Advogado\n",
    "advogado = navegador.find_element(By.ID, 'advogado').send_keys('Murilo')\n",
    "\n",
    "# Preenchendo o campo do Número do Processo\n",
    "numero = navegador.find_element(By.ID, 'numero').send_keys('6443678')"
   ]
  },
  {
   "cell_type": "markdown",
   "id": "49571aa2",
   "metadata": {},
   "source": [
    "### Clicando no botão Pesquisar"
   ]
  },
  {
   "cell_type": "raw",
   "id": "32bb6fc4",
   "metadata": {},
   "source": [
    "navegador.find_element(By.CLASS_NAME, 'registerbtn').click()"
   ]
  },
  {
   "cell_type": "markdown",
   "id": "7531e97b",
   "metadata": {},
   "source": [
    "### Clicando no Pop-Up para esperar a busca"
   ]
  },
  {
   "cell_type": "raw",
   "id": "5e31be73",
   "metadata": {},
   "source": [
    "alerta_busca = Alert(navegador)\n",
    "alerta_busca.accept()"
   ]
  },
  {
   "cell_type": "markdown",
   "id": "12013530",
   "metadata": {},
   "source": [
    "### Análise de qual resposta será recebida\n",
    "- Se foi aceito\n",
    "- Se não foi aceito"
   ]
  },
  {
   "cell_type": "raw",
   "id": "c31b8472",
   "metadata": {},
   "source": [
    "import time\n",
    "\n",
    "while True:\n",
    "    try:\n",
    "        alerta_resposta = navegador.switch_to.alert\n",
    "        break\n",
    "    except:\n",
    "        time.sleep(1)\n",
    "texto_resposta = alerta_resposta.text\n",
    "print(texto_resposta)\n",
    "\n",
    "if texto_resposta == 'Processo encontrado com sucesso! Deseja acessar?':\n",
    "    alerta_resposta.accept()\n",
    "    print('Processo encontrado')\n",
    "elif texto_resposta == 'Nenhum processo encontrado!':\n",
    "    alerta_resposta.accept()\n",
    "    print('Processo não encontrado')"
   ]
  },
  {
   "cell_type": "markdown",
   "id": "59e2d886",
   "metadata": {},
   "source": [
    "-----------------------------"
   ]
  },
  {
   "cell_type": "markdown",
   "id": "40bb06a1",
   "metadata": {},
   "source": [
    "## Passo a Passo\n",
    "- A lógica será a mesma para várias partes do código\n",
    "- Só foi apresentado acima o passo a passo detalhado para 1 pessoa\n",
    "- Agora será feita para várias, haverá poucas entre ambas diferenças"
   ]
  },
  {
   "cell_type": "markdown",
   "id": "2dfead9e",
   "metadata": {},
   "source": [
    "------------------------------------------------"
   ]
  },
  {
   "cell_type": "markdown",
   "id": "b070ab52",
   "metadata": {},
   "source": [
    "## Para várias"
   ]
  },
  {
   "cell_type": "markdown",
   "id": "503cb4ad",
   "metadata": {},
   "source": [
    "### Pegando o caminho"
   ]
  },
  {
   "cell_type": "code",
   "execution_count": 27,
   "id": "c0b9dc85",
   "metadata": {},
   "outputs": [],
   "source": [
    "# import os\n",
    "\n",
    "caminho = os.getcwd()\n",
    "arquivo = caminho + r\"\\index.html\"\n"
   ]
  },
  {
   "cell_type": "markdown",
   "id": "bb8ceb22",
   "metadata": {},
   "source": [
    "### Lendo a planilha"
   ]
  },
  {
   "cell_type": "code",
   "execution_count": 28,
   "id": "b9885cf8",
   "metadata": {},
   "outputs": [
    {
     "data": {
      "text/html": [
       "<div>\n",
       "<style scoped>\n",
       "    .dataframe tbody tr th:only-of-type {\n",
       "        vertical-align: middle;\n",
       "    }\n",
       "\n",
       "    .dataframe tbody tr th {\n",
       "        vertical-align: top;\n",
       "    }\n",
       "\n",
       "    .dataframe thead th {\n",
       "        text-align: right;\n",
       "    }\n",
       "</style>\n",
       "<table border=\"1\" class=\"dataframe\">\n",
       "  <thead>\n",
       "    <tr style=\"text-align: right;\">\n",
       "      <th></th>\n",
       "      <th>Nome</th>\n",
       "      <th>Advogado</th>\n",
       "      <th>Processo</th>\n",
       "      <th>Cidade</th>\n",
       "      <th>Status</th>\n",
       "    </tr>\n",
       "  </thead>\n",
       "  <tbody>\n",
       "    <tr>\n",
       "      <th>0</th>\n",
       "      <td>Lira</td>\n",
       "      <td>Alon Lawyer</td>\n",
       "      <td>PC6592</td>\n",
       "      <td>Distrito Federal</td>\n",
       "      <td>NaN</td>\n",
       "    </tr>\n",
       "    <tr>\n",
       "      <th>1</th>\n",
       "      <td>João</td>\n",
       "      <td>Lawyer Alon</td>\n",
       "      <td>EB3792</td>\n",
       "      <td>Rio de Janeiro</td>\n",
       "      <td>NaN</td>\n",
       "    </tr>\n",
       "    <tr>\n",
       "      <th>2</th>\n",
       "      <td>Amanda</td>\n",
       "      <td>Amanda mesmo</td>\n",
       "      <td>MM1043</td>\n",
       "      <td>Rio de Janeiro</td>\n",
       "      <td>NaN</td>\n",
       "    </tr>\n",
       "    <tr>\n",
       "      <th>3</th>\n",
       "      <td>Carol</td>\n",
       "      <td>Amanda</td>\n",
       "      <td>PC5197</td>\n",
       "      <td>São Paulo</td>\n",
       "      <td>NaN</td>\n",
       "    </tr>\n",
       "  </tbody>\n",
       "</table>\n",
       "</div>"
      ],
      "text/plain": [
       "     Nome      Advogado Processo            Cidade  Status\n",
       "0    Lira   Alon Lawyer   PC6592  Distrito Federal     NaN\n",
       "1    João   Lawyer Alon   EB3792    Rio de Janeiro     NaN\n",
       "2  Amanda  Amanda mesmo   MM1043    Rio de Janeiro     NaN\n",
       "3   Carol        Amanda   PC5197         São Paulo     NaN"
      ]
     },
     "metadata": {},
     "output_type": "display_data"
    }
   ],
   "source": [
    "processos = pd.read_excel(r'Processos.xlsx')\n",
    "processos.to_csv('Processos_df.csv', index=None, header=True)\n",
    "processos_df = pd.read_csv('Processos_df.csv', sep=',')\n",
    "\n",
    "display(processos_df)\n"
   ]
  },
  {
   "cell_type": "markdown",
   "id": "1acb650a",
   "metadata": {},
   "source": [
    "### O código"
   ]
  },
  {
   "cell_type": "code",
   "execution_count": 29,
   "id": "2c8be7ab",
   "metadata": {},
   "outputs": [],
   "source": [
    "for linha in processos_df.index:\n",
    "    \n",
    "    \n",
    "    navegador.get(arquivo)\n",
    "    \n",
    "    \n",
    "    # Escolhendo o Estado\n",
    "    menu = navegador.find_element(By.CLASS_NAME, 'dropdown-menu')\n",
    "    conteudo = navegador.find_element(By.CLASS_NAME, 'dropdown-content')\n",
    "    \n",
    "    # Movendo o mouse\n",
    "    ActionChains(navegador).move_to_element(menu).move_to_element(conteudo).perform()\n",
    "    \n",
    "    # Cidade\n",
    "    cidade = processos_df.loc[linha, 'Cidade']\n",
    "    \n",
    "    # Selecionando a cidade\n",
    "    navegador.find_element(By.PARTIAL_LINK_TEXT, cidade).click()\n",
    "    \n",
    "    # Definindo as abas\n",
    "    aba_original = navegador.window_handles[0]\n",
    "    # indice = 1 + linha\n",
    "    # aba_nova = navegador.window_handles[indice]\n",
    "    aba_nova = navegador.window_handles[1]\n",
    "    \n",
    "    \n",
    "    # Mudando para a nova aba\n",
    "    navegador.switch_to.window(aba_nova)\n",
    "    \n",
    "    # Enviando os dados para os campos\n",
    "    navegador.find_element(By.ID, 'nome').send_keys(processos_df.loc[linha, 'Nome'])\n",
    "    navegador.find_element(By.ID, 'advogado').send_keys(processos_df.loc[linha, 'Advogado'])\n",
    "    navegador.find_element(By.ID, 'numero').send_keys(processos_df.loc[linha, 'Processo'])\n",
    "    \n",
    "    # Clicando em pesquisar\n",
    "    navegador.find_element(By.CLASS_NAME, 'registerbtn').click()\n",
    "    \n",
    "    # Clicando no Pop-up para esperar a busca\n",
    "    alerta_busca = Alert(navegador)\n",
    "    alerta_busca.accept()\n",
    "\n",
    "    # Análise de qual resposta será recebida\n",
    "    while True:\n",
    "        try:\n",
    "            alerta_resposta = navegador.switch_to.alert\n",
    "            break\n",
    "        except:\n",
    "            time.sleep(1)\n",
    "    texto_resposta = alerta_resposta.text\n",
    "    # print(texto_resposta)\n",
    "\n",
    "    if texto_resposta == 'Processo encontrado com sucesso! Deseja acessar?':\n",
    "        alerta_resposta.accept()\n",
    "        processos.loc[linha, 'Status'] = 'Encontrado'\n",
    "    elif texto_resposta == 'Nenhum processo encontrado!':\n",
    "        alerta_resposta.accept()\n",
    "        processos.loc[linha, 'Status'] = 'Não encontrado'\n",
    "    \n",
    "    # Fechando cada aba para não gerar estresse no computador\n",
    "    navegador.close()\n",
    "    navegador.switch_to.window(aba_original)"
   ]
  },
  {
   "cell_type": "markdown",
   "id": "7219dbc1",
   "metadata": {},
   "source": [
    "### Fechando a aba para iniciar novo processo"
   ]
  },
  {
   "cell_type": "raw",
   "id": "d31006d5",
   "metadata": {},
   "source": [
    "navegador.close()"
   ]
  },
  {
   "cell_type": "markdown",
   "id": "78d891bb",
   "metadata": {},
   "source": [
    "### Fechando o navegador"
   ]
  },
  {
   "cell_type": "code",
   "execution_count": 30,
   "id": "40a2082e",
   "metadata": {},
   "outputs": [],
   "source": [
    "navegador.quit()"
   ]
  },
  {
   "cell_type": "markdown",
   "id": "fa319296",
   "metadata": {},
   "source": [
    "### Mostrando a tabela"
   ]
  },
  {
   "cell_type": "code",
   "execution_count": 33,
   "id": "2c037da9",
   "metadata": {},
   "outputs": [
    {
     "data": {
      "text/html": [
       "<div>\n",
       "<style scoped>\n",
       "    .dataframe tbody tr th:only-of-type {\n",
       "        vertical-align: middle;\n",
       "    }\n",
       "\n",
       "    .dataframe tbody tr th {\n",
       "        vertical-align: top;\n",
       "    }\n",
       "\n",
       "    .dataframe thead th {\n",
       "        text-align: right;\n",
       "    }\n",
       "</style>\n",
       "<table border=\"1\" class=\"dataframe\">\n",
       "  <thead>\n",
       "    <tr style=\"text-align: right;\">\n",
       "      <th></th>\n",
       "      <th>Nome</th>\n",
       "      <th>Advogado</th>\n",
       "      <th>Processo</th>\n",
       "      <th>Cidade</th>\n",
       "      <th>Status</th>\n",
       "    </tr>\n",
       "  </thead>\n",
       "  <tbody>\n",
       "    <tr>\n",
       "      <th>0</th>\n",
       "      <td>Lira</td>\n",
       "      <td>Alon Lawyer</td>\n",
       "      <td>PC6592</td>\n",
       "      <td>Distrito Federal</td>\n",
       "      <td>Não encontrado</td>\n",
       "    </tr>\n",
       "    <tr>\n",
       "      <th>1</th>\n",
       "      <td>João</td>\n",
       "      <td>Lawyer Alon</td>\n",
       "      <td>EB3792</td>\n",
       "      <td>Rio de Janeiro</td>\n",
       "      <td>Encontrado</td>\n",
       "    </tr>\n",
       "    <tr>\n",
       "      <th>2</th>\n",
       "      <td>Amanda</td>\n",
       "      <td>Amanda mesmo</td>\n",
       "      <td>MM1043</td>\n",
       "      <td>Rio de Janeiro</td>\n",
       "      <td>Não encontrado</td>\n",
       "    </tr>\n",
       "    <tr>\n",
       "      <th>3</th>\n",
       "      <td>Carol</td>\n",
       "      <td>Amanda</td>\n",
       "      <td>PC5197</td>\n",
       "      <td>São Paulo</td>\n",
       "      <td>Encontrado</td>\n",
       "    </tr>\n",
       "  </tbody>\n",
       "</table>\n",
       "</div>"
      ],
      "text/plain": [
       "     Nome      Advogado Processo            Cidade          Status\n",
       "0    Lira   Alon Lawyer   PC6592  Distrito Federal  Não encontrado\n",
       "1    João   Lawyer Alon   EB3792    Rio de Janeiro      Encontrado\n",
       "2  Amanda  Amanda mesmo   MM1043    Rio de Janeiro  Não encontrado\n",
       "3   Carol        Amanda   PC5197         São Paulo      Encontrado"
      ]
     },
     "metadata": {},
     "output_type": "display_data"
    }
   ],
   "source": [
    "display(processos)"
   ]
  }
 ],
 "metadata": {
  "kernelspec": {
   "display_name": "Python 3 (ipykernel)",
   "language": "python",
   "name": "python3"
  },
  "language_info": {
   "codemirror_mode": {
    "name": "ipython",
    "version": 3
   },
   "file_extension": ".py",
   "mimetype": "text/x-python",
   "name": "python",
   "nbconvert_exporter": "python",
   "pygments_lexer": "ipython3",
   "version": "3.9.7"
  }
 },
 "nbformat": 4,
 "nbformat_minor": 5
}
